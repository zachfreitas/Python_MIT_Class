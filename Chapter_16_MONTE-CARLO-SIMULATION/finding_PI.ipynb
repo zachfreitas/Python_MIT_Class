{
 "cells": [
  {
   "cell_type": "markdown",
   "metadata": {},
   "source": [
    "# Finding PI"
   ]
  },
  {
   "cell_type": "code",
   "execution_count": 1,
   "metadata": {},
   "outputs": [],
   "source": [
    "def variance(X):\n",
    "    \"\"\"Assumes that X is a list of numbers.\n",
    "    Returns the standard deviation of X\"\"\"\n",
    "    mean = sum(X)/len(X)\n",
    "    tot = 0.0\n",
    "    for x in X:\n",
    "        tot  += (x-mean)**2\n",
    "    return tot/len(X)\n",
    "\n",
    "def stdDev(X):\n",
    "    \"\"\"Assumes that X is a list of numbers.\n",
    "    Returns the standard deviation of X\"\"\"\n",
    "    return variance(X)**0.5"
   ]
  },
  {
   "cell_type": "code",
   "execution_count": 6,
   "metadata": {},
   "outputs": [],
   "source": [
    "import random\n",
    "\n",
    "def throwNeedles(numNeedles):\n",
    "    inCircle = 0\n",
    "    for Needles in range(1, numNeedles + 1):\n",
    "        x = random.random()\n",
    "        y = random.random()\n",
    "        if (x*x + y*y)**0.5 <= 1:\n",
    "            inCircle += 1\n",
    "    # Counting needles in one quadrant only, so multiply by 4\n",
    "    return 4*(inCircle/numNeedles)\n",
    "\n",
    "def getEst(numNeedles, numTrials):\n",
    "    estimates = []\n",
    "    for t in range(numTrials):\n",
    "        piGuess = throwNeedles(numNeedles)\n",
    "        estimates.append(piGuess)\n",
    "    sDev = stdDev(estimates)\n",
    "    curEst = sum(estimates)/len(estimates)\n",
    "    print('Est. =', str(round(curEst, 5)) + ',', \n",
    "          'Std. dev. =', str(round(sDev, 5)) + ',',\n",
    "          'Needles =', numNeedles)\n",
    "    return (curEst, sDev)\n",
    "\n",
    "def estPi(precision, numTrials):\n",
    "    numNeedles = 1000\n",
    "    sDev = precision\n",
    "    while sDev > precision/1.96:\n",
    "        curEst, sDev = getEst(numNeedles, numTrials)\n",
    "        numNeedles *= 2\n",
    "    return curEst"
   ]
  },
  {
   "cell_type": "code",
   "execution_count": 7,
   "metadata": {},
   "outputs": [
    {
     "name": "stdout",
     "output_type": "stream",
     "text": [
      "Est. = 3.14372, Std. dev. = 0.04578, Needles = 1000\n",
      "Est. = 3.1399, Std. dev. = 0.03379, Needles = 2000\n",
      "Est. = 3.13882, Std. dev. = 0.02651, Needles = 4000\n",
      "Est. = 3.14072, Std. dev. = 0.01821, Needles = 8000\n",
      "Est. = 3.14157, Std. dev. = 0.01326, Needles = 16000\n",
      "Est. = 3.14176, Std. dev. = 0.00974, Needles = 32000\n",
      "Est. = 3.14206, Std. dev. = 0.00669, Needles = 64000\n",
      "Est. = 3.14115, Std. dev. = 0.00442, Needles = 128000\n"
     ]
    },
    {
     "data": {
      "text/plain": [
       "3.14114703125"
      ]
     },
     "execution_count": 7,
     "metadata": {},
     "output_type": "execute_result"
    }
   ],
   "source": [
    "estPi(0.01, 200)"
   ]
  },
  {
   "cell_type": "code",
   "execution_count": null,
   "metadata": {},
   "outputs": [],
   "source": []
  }
 ],
 "metadata": {
  "kernelspec": {
   "display_name": "Python 3",
   "language": "python",
   "name": "python3"
  },
  "language_info": {
   "codemirror_mode": {
    "name": "ipython",
    "version": 3
   },
   "file_extension": ".py",
   "mimetype": "text/x-python",
   "name": "python",
   "nbconvert_exporter": "python",
   "pygments_lexer": "ipython3",
   "version": "3.11.7"
  }
 },
 "nbformat": 4,
 "nbformat_minor": 2
}
