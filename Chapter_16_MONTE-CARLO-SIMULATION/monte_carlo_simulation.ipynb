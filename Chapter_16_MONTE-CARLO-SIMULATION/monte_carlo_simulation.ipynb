{
 "cells": [
  {
   "cell_type": "markdown",
   "metadata": {},
   "source": [
    "# Monte Carlo Simulation\n",
    "## Pascal's Problem"
   ]
  },
  {
   "cell_type": "markdown",
   "metadata": {},
   "source": [
    "Write a program to simulate the probability of rolling a double 6 in 24 consective rolls.\n",
    "\n",
    "*   On the first roll the probability of rolling a 6 on each die is 1/6, so the probability of rolling a 6 with both dice is 1/36. \n",
    "*   Therefore, the probability of not rolling a double 6 on the first roll is 1 - 1/36 = 35/36. \n",
    "*   Therefore the probability of not rolling a double 6 twenty-four consecutive times is (35/36)24, nearly 0.51, and therefore the probability of rolling a double 6 is 1 - (35/36)24, about 0.49. In the long run it would not be profitable to bet on rolling a double 6 within twenty-four rolls.\n"
   ]
  },
  {
   "cell_type": "code",
   "execution_count": 36,
   "metadata": {},
   "outputs": [],
   "source": [
    "import random\n",
    "\n",
    "def rollDie():\n",
    "    return random.choice([1,2,3,4,5,6])\n",
    "\n",
    "def checkPascal(numTrials):\n",
    "    \"\"\"Assumes numTrials an in > 0\n",
    "    Prints an estimate of the probability of winning\"\"\"\n",
    "    numWins = 0\n",
    "    for i in range(numTrials):\n",
    "        for j in range(24):\n",
    "            d1 = rollDie()\n",
    "            d2 = rollDie()\n",
    "            if d1 == 6 and d2 == 6:\n",
    "                numWins += 1\n",
    "                break\n",
    "    print('Probability of winning =', numWins / numTrials)"
   ]
  },
  {
   "cell_type": "code",
   "execution_count": 37,
   "metadata": {},
   "outputs": [
    {
     "name": "stdout",
     "output_type": "stream",
     "text": [
      "Probability of winning = 0.490652\n"
     ]
    }
   ],
   "source": [
    "# Estimate with Simulation\n",
    "checkPascal(1000000)"
   ]
  },
  {
   "cell_type": "code",
   "execution_count": 38,
   "metadata": {},
   "outputs": [
    {
     "data": {
      "text/plain": [
       "0.4914038761309034"
      ]
     },
     "execution_count": 38,
     "metadata": {},
     "output_type": "execute_result"
    }
   ],
   "source": [
    "# Check Work Arithmatically \n",
    "1 - (35.0/36.0)**24"
   ]
  },
  {
   "cell_type": "markdown",
   "metadata": {},
   "source": [
    "## Craps - Pass / Don't Pass"
   ]
  },
  {
   "cell_type": "code",
   "execution_count": 13,
   "metadata": {},
   "outputs": [],
   "source": [
    "class CrapsGame(object):\n",
    "    def __init__(self) -> None:\n",
    "        self.passWins, self.passLosses = 0, 0\n",
    "        self.dpWins, self.dpLosses, self.dpPushes = 0, 0, 0\n",
    "    \n",
    "    # def playHand(self):\n",
    "    #     # Straight forward approach to playHand, less efficient.\n",
    "    #     throw = rollDie() + rollDie()\n",
    "    #     if throw == 7 or throw == 11:\n",
    "    #         self.passWins += 1\n",
    "    #         self.dpLosses += 1\n",
    "    #     elif throw == 2 or throw == 3 or throw == 12:\n",
    "    #         self.passLosses += 1\n",
    "    #         if throw == 12:\n",
    "    #             self.dpPushes += 1\n",
    "    #         else:\n",
    "    #             self.dpWins += 1\n",
    "    #     else:\n",
    "    #         point = throw\n",
    "    #         while True:\n",
    "    #             throw = rollDie() + rollDie()\n",
    "    #             if throw == point:\n",
    "    #                 self.passWins += 1\n",
    "    #                 self.dpLosses += 1\n",
    "    #                 break\n",
    "    #             elif throw == 7:\n",
    "    #                 self.passLosses += 1\n",
    "    #                 self.dpWins += 1\n",
    "    #                 break\n",
    "    \n",
    "    def playHand(self):\n",
    "        #An alternative, faster, implementation of playHand\n",
    "        pointsDict = {4:1/3, 5:2/5, 6:5/11, 8:5/11, 9:2/5, 10:1/3}\n",
    "        throw = rollDie() + rollDie()\n",
    "        if throw == 7 or throw == 11:\n",
    "            self.passWins += 1\n",
    "            self.dpLosses += 1\n",
    "        elif throw == 2 or throw == 3 or throw == 12:\n",
    "            self.passLosses += 1\n",
    "            if throw == 12:\n",
    "                self.dpPushes += 1\n",
    "            else:\n",
    "                self.dpWins += 1\n",
    "        else:\n",
    "            if random.random() <= pointsDict[throw]: # point before 7\n",
    "                self.passWins += 1\n",
    "                self.dpLosses += 1\n",
    "            else: # 7 before point\n",
    "                self.passLosses += 1\n",
    "                self.dpWins += 1\n",
    "\n",
    "                            \n",
    "    def passResults(self):\n",
    "        return (self.passWins, self.passLosses)\n",
    "    \n",
    "    def dpResults(self):\n",
    "        return (self.dpWins, self.dpLosses, self.dpPushes)"
   ]
  },
  {
   "cell_type": "code",
   "execution_count": 14,
   "metadata": {},
   "outputs": [],
   "source": [
    "def variance(X):\n",
    "    \"\"\"Assumes that X is a list of numbers.\n",
    "    Returns the standard deviation of X\"\"\"\n",
    "    mean = sum(X)/len(X)\n",
    "    tot = 0.0\n",
    "    for x in X:\n",
    "        tot  += (x-mean)**2\n",
    "    return tot/len(X)\n",
    "\n",
    "def stdDev(X):\n",
    "    \"\"\"Assumes that X is a list of numbers.\n",
    "    Returns the standard deviation of X\"\"\"\n",
    "    return variance(X)**0.5"
   ]
  },
  {
   "cell_type": "code",
   "execution_count": 15,
   "metadata": {},
   "outputs": [],
   "source": [
    "def crapsSim(handsPerGame, numGames):\n",
    "    \"\"\"Assumes handsPerGame and numGames are ints > 0\n",
    "    Play numGames games of handsPerGame hands; print results\"\"\"\n",
    "    games = []\n",
    "    \n",
    "    # Play numGames games\n",
    "    for t in range(numGames):\n",
    "        c = CrapsGame()\n",
    "        for i in range(handsPerGame):\n",
    "            c.playHand()\n",
    "        games.append(c)\n",
    "    \n",
    "    # Produce statistics for each game\n",
    "    pROIPerGame, dpROIPerGame = [], []\n",
    "    for g in games:\n",
    "        wins, losses = g.passResults()\n",
    "        pROIPerGame.append((wins - losses)/float(handsPerGame))\n",
    "        wins, losses, pushes = g.dpResults()\n",
    "        dpROIPerGame.append((wins - losses)/float(handsPerGame))\n",
    "        \n",
    "    # Produce and print summary statistics\n",
    "    # Pass Line\n",
    "    meanROI = str(round((100*sum(pROIPerGame)/numGames), 4)) + '%'\n",
    "    sigma  = str(round(100*stdDev(pROIPerGame), 4)) + '%'\n",
    "    print('Pass:', 'Mean ROI =', meanROI, 'Std. Dev. =', sigma)\n",
    "    # Produce and print summary statistics\n",
    "    # Don't Pass Line\n",
    "    meanROI = str(round((100*sum(dpROIPerGame)/numGames), 4)) + '%'\n",
    "    sigma  = str(round(100*stdDev(dpROIPerGame), 4)) + '%'\n",
    "    print('Pass:', 'Mean ROI =', meanROI, 'Std. Dev. =', sigma)"
   ]
  },
  {
   "cell_type": "code",
   "execution_count": 35,
   "metadata": {},
   "outputs": [
    {
     "name": "stdout",
     "output_type": "stream",
     "text": [
      "Pass: Mean ROI = -5.0% Std. Dev. = 21.095%\n",
      "Pass: Mean ROI = 3.5% Std. Dev. = 21.5697%\n"
     ]
    }
   ],
   "source": [
    "crapsSim(20, 10)"
   ]
  },
  {
   "cell_type": "code",
   "execution_count": 20,
   "metadata": {},
   "outputs": [
    {
     "name": "stdout",
     "output_type": "stream",
     "text": [
      "Pass: Mean ROI = -1.3688% Std. Dev. = 0.0696%\n",
      "Pass: Mean ROI = -1.4113% Std. Dev. = 0.0747%\n"
     ]
    }
   ],
   "source": [
    "crapsSim(1000000, 10)"
   ]
  },
  {
   "cell_type": "code",
   "execution_count": 18,
   "metadata": {},
   "outputs": [
    {
     "name": "stdout",
     "output_type": "stream",
     "text": [
      "Pass: Mean ROI = -1.4353% Std. Dev. = 22.3562%\n",
      "Pass: Mean ROI = -1.3441% Std. Dev. = 22.0452%\n"
     ]
    }
   ],
   "source": [
    "crapsSim(20, 1000000)"
   ]
  },
  {
   "cell_type": "markdown",
   "metadata": {},
   "source": [
    "## Using Table Lookup to Improve Performance\n",
    "I modified the class above to achieve faster performace over the looping."
   ]
  },
  {
   "cell_type": "markdown",
   "metadata": {},
   "source": [
    "## Weighted Die - Bias\n",
    "A die that favored 5 over 2."
   ]
  },
  {
   "cell_type": "code",
   "execution_count": 39,
   "metadata": {},
   "outputs": [],
   "source": [
    "def rollDie():\n",
    "    return random.choice([1,1,2,3,3,4,4,5,5,5,6,6])"
   ]
  },
  {
   "cell_type": "code",
   "execution_count": 42,
   "metadata": {},
   "outputs": [
    {
     "name": "stdout",
     "output_type": "stream",
     "text": [
      "Pass: Mean ROI = 2.2973% Std. Dev. = 0.0518%\n",
      "Pass: Mean ROI = -5.0739% Std. Dev. = 0.0491%\n"
     ]
    }
   ],
   "source": [
    "crapsSim(1000000, 10)"
   ]
  },
  {
   "cell_type": "code",
   "execution_count": null,
   "metadata": {},
   "outputs": [],
   "source": []
  }
 ],
 "metadata": {
  "kernelspec": {
   "display_name": "Python 3",
   "language": "python",
   "name": "python3"
  },
  "language_info": {
   "codemirror_mode": {
    "name": "ipython",
    "version": 3
   },
   "file_extension": ".py",
   "mimetype": "text/x-python",
   "name": "python",
   "nbconvert_exporter": "python",
   "pygments_lexer": "ipython3",
   "version": "3.11.7"
  }
 },
 "nbformat": 4,
 "nbformat_minor": 2
}
