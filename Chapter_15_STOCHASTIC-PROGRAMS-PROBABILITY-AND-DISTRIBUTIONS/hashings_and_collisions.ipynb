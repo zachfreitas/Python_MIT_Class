{
 "cells": [
  {
   "cell_type": "markdown",
   "metadata": {},
   "source": [
    "# Hashing and Collisions"
   ]
  },
  {
   "cell_type": "code",
   "execution_count": 1,
   "metadata": {},
   "outputs": [],
   "source": [
    "def collisionProb(n, k):\n",
    "    prob = 1.0\n",
    "    for i in range(1, k):\n",
    "        prob = prob * ((n-i)/n)\n",
    "    return 1 - prob"
   ]
  },
  {
   "cell_type": "code",
   "execution_count": 11,
   "metadata": {},
   "outputs": [
    {
     "name": "stdout",
     "output_type": "stream",
     "text": [
      "This is the probability of having a least one collision\n",
      "when the size of the hash table is 1000\n",
      "and the number of insertions are 50\n",
      "The probability is 0.71\n"
     ]
    }
   ],
   "source": [
    "n = 1000 #Size of hash table\n",
    "k = 50 #Insertions\n",
    "p = collisionProb(n, k)\n",
    "\n",
    "print('This is the probability of having a least one collision')\n",
    "print('when the size of the hash table is ' + str(n) + '\\nand the number of insertions are ' + str(k))\n",
    "print('The probability is ' + str(round(p, 2)))"
   ]
  },
  {
   "cell_type": "code",
   "execution_count": 12,
   "metadata": {},
   "outputs": [
    {
     "name": "stdout",
     "output_type": "stream",
     "text": [
      "This is the probability of having a least one collision\n",
      "when the size of the hash table is 1000\n",
      "and the number of insertions are 200\n",
      "The probability is 1.0\n"
     ]
    }
   ],
   "source": [
    "n = 1000 #Size of hash table\n",
    "k = 200 #Insertions\n",
    "p = collisionProb(n, k)\n",
    "\n",
    "print('This is the probability of having a least one collision')\n",
    "print('when the size of the hash table is ' + str(n) + '\\nand the number of insertions are ' + str(k))\n",
    "print('The probability is ' + str(round(p, 2)))"
   ]
  },
  {
   "cell_type": "code",
   "execution_count": 3,
   "metadata": {},
   "outputs": [],
   "source": [
    "import random\n",
    "def simInsertions(numIndices, numInsertions):\n",
    "    \"\"\"Assumes numIndices and numInsertions are positive ints.\n",
    "    Returns 1 if there is a collision, 0 otherwise\"\"\"\n",
    "    choices = range(numIndices) #list of possible indices\n",
    "    used = []\n",
    "    for i in range(numInsertions):\n",
    "        hashVal = random.choice(choices)\n",
    "        if hashVal in used: # There is a collision\n",
    "            return 1\n",
    "        else:\n",
    "            used.append(hashVal)\n",
    "    return 0\n",
    "\n",
    "def findProb(numIndices, numInsertions, numTrials):\n",
    "    collisions = 0\n",
    "    for t in range(numTrials):\n",
    "        collisions += simInsertions(numIndices, numInsertions)\n",
    "    return collisions/numTrials"
   ]
  },
  {
   "cell_type": "code",
   "execution_count": 4,
   "metadata": {},
   "outputs": [
    {
     "name": "stdout",
     "output_type": "stream",
     "text": [
      "Actual probability of a collision = 0.7122686568799875\n",
      "Est. probability of a collision = 0.709\n",
      "Actual probability of a collision = 0.9999999994781328\n",
      "Est. probability of a collision = 1.0\n"
     ]
    }
   ],
   "source": [
    "print('Actual probability of a collision =', collisionProb(1000, 50)) \n",
    "print('Est. probability of a collision =', findProb(1000, 50, 10000)) \n",
    "print('Actual probability of a collision =', collisionProb(1000, 200)) \n",
    "print('Est. probability of a collision =', findProb(1000, 200, 10000))\n"
   ]
  },
  {
   "cell_type": "code",
   "execution_count": null,
   "metadata": {},
   "outputs": [],
   "source": []
  }
 ],
 "metadata": {
  "kernelspec": {
   "display_name": "Python 3",
   "language": "python",
   "name": "python3"
  },
  "language_info": {
   "codemirror_mode": {
    "name": "ipython",
    "version": 3
   },
   "file_extension": ".py",
   "mimetype": "text/x-python",
   "name": "python",
   "nbconvert_exporter": "python",
   "pygments_lexer": "ipython3",
   "version": "3.11.7"
  }
 },
 "nbformat": 4,
 "nbformat_minor": 2
}
