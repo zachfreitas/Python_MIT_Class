{
 "cells": [
  {
   "cell_type": "code",
   "execution_count": 1,
   "metadata": {},
   "outputs": [],
   "source": [
    "# -*- coding: utf-8 -*-\n",
    "\n",
    "import random\n",
    "import numpy as np\n",
    "import matplotlib.pyplot as plt\n",
    "import scipy.integrate\n",
    "import scipy.stats\n",
    "\n",
    "#set line width\n",
    "plt.rcParams['lines.linewidth'] = 4\n",
    "#set font size for titles \n",
    "plt.rcParams['axes.titlesize'] = 16\n",
    "#set font size for labels on axes\n",
    "plt.rcParams['axes.labelsize'] = 16\n",
    "#set size of numbers on x-axis\n",
    "plt.rcParams['xtick.labelsize'] = 16\n",
    "#set size of numbers on y-axis\n",
    "plt.rcParams['ytick.labelsize'] = 16\n",
    "#set size of ticks on x-axis\n",
    "plt.rcParams['xtick.major.size'] = 7\n",
    "#set size of ticks on y-axis\n",
    "plt.rcParams['ytick.major.size'] = 7\n",
    "#set size of markers, e.g., circles representing points\n",
    "plt.rcParams['lines.markersize'] = 10\n",
    "#set number of times marker is shown when displaying legend\n",
    "plt.rcParams['legend.numpoints'] = 1\n",
    "#Set size of type in legend\n",
    "plt.rcParams['legend.fontsize'] = 14"
   ]
  },
  {
   "cell_type": "code",
   "execution_count": 7,
   "metadata": {},
   "outputs": [],
   "source": [
    "def calcBayes(priorA, probBifA, probB):\n",
    "    \"\"\"priorA: inital estimate of probability of A independant of B\n",
    "    probBifA: est. of probability of B assuming A is true\n",
    "    probB: est. of probability of B\n",
    "    Returns probability of A given B\"\"\"\n",
    "    return priorA*probBifA/probB"
   ]
  },
  {
   "cell_type": "code",
   "execution_count": 8,
   "metadata": {},
   "outputs": [
    {
     "name": "stdout",
     "output_type": "stream",
     "text": [
      "Probability of type A = 0.3925\n",
      "Probability of type A = 0.4622\n"
     ]
    }
   ],
   "source": [
    "priorA = 1/3\n",
    "probBifA = 1/5\n",
    "probB = (1/5 + 1/6 + 1/7)/3\n",
    "\n",
    "postA = calcBayes(priorA, probBifA, probB)\n",
    "print('Probability of type A =', round(postA, 4))\n",
    "postA = calcBayes(postA, probBifA, probB)\n",
    "print('Probability of type A =', round(postA, 4))"
   ]
  },
  {
   "cell_type": "code",
   "execution_count": 9,
   "metadata": {},
   "outputs": [
    {
     "name": "stdout",
     "output_type": "stream",
     "text": [
      "Probability of type A = 0.3212\n",
      "Probability of type A = 0.3096\n"
     ]
    }
   ],
   "source": [
    "postA = calcBayes(priorA, 1-probBifA, 1-probB)\n",
    "print('Probability of type A =', round(postA, 4))\n",
    "postA = calcBayes(postA, 1-probBifA, 1-probB)\n",
    "print('Probability of type A =', round(postA, 4))"
   ]
  },
  {
   "cell_type": "code",
   "execution_count": 11,
   "metadata": {},
   "outputs": [
    {
     "name": "stdout",
     "output_type": "stream",
     "text": [
      "After 0 rolls. Probability of type A = 0.9\n",
      "After 20 rolls. Probability of type A = 0.6411\n",
      "After 40 rolls. Probability of type A = 0.8333\n",
      "After 60 rolls. Probability of type A = 1.0831\n",
      "After 80 rolls. Probability of type A = 1.4078\n",
      "After 100 rolls. Probability of type A = 1.0028\n",
      "After 120 rolls. Probability of type A = 0.7144\n",
      "After 140 rolls. Probability of type A = 0.3408\n",
      "After 160 rolls. Probability of type A = 0.2967\n",
      "After 180 rolls. Probability of type A = 0.1729\n",
      "After 200 rolls. Probability of type A = 0.1505\n"
     ]
    }
   ],
   "source": [
    "numRolls = 200\n",
    "priorA = 0.9\n",
    "postA = priorA\n",
    "for i in range(numRolls + 1):\n",
    "    if i%(numRolls//10) == 0:\n",
    "        print('After', i, 'rolls. Probability of type A =',\n",
    "              round(postA,4))\n",
    "    isSix = random.random() <= 1/7 # Because die of type c\n",
    "    if isSix:\n",
    "        postA = calcBayes(postA, probBifA, probB)\n",
    "    else:\n",
    "        postA = calcBayes(postA, 1-probBifA, 1-probB)\n",
    "        "
   ]
  },
  {
   "cell_type": "code",
   "execution_count": null,
   "metadata": {},
   "outputs": [],
   "source": []
  }
 ],
 "metadata": {
  "kernelspec": {
   "display_name": "Python 3",
   "language": "python",
   "name": "python3"
  },
  "language_info": {
   "codemirror_mode": {
    "name": "ipython",
    "version": 3
   },
   "file_extension": ".py",
   "mimetype": "text/x-python",
   "name": "python",
   "nbconvert_exporter": "python",
   "pygments_lexer": "ipython3",
   "version": "3.11.7"
  }
 },
 "nbformat": 4,
 "nbformat_minor": 2
}
