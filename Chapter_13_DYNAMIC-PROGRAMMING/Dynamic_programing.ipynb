{
 "cells": [
  {
   "cell_type": "markdown",
   "metadata": {},
   "source": [
    "# Dynamic Programing"
   ]
  },
  {
   "cell_type": "code",
   "execution_count": 16,
   "metadata": {},
   "outputs": [],
   "source": [
    "# a straightforward recursive implementation of the Fibonacci function:\n",
    "# Time Complexity = O(fib(n)) - It's grothw is proportional to it's n\n",
    "def fib(n): \n",
    "    \"\"\"Assumes n is an int >= 0 Returns Fibonacci of n\"\"\" \n",
    "    if n == 0 or n == 1: \n",
    "        return 1 \n",
    "    else: \n",
    "        return fib(n-1) + fib(n-2)\n"
   ]
  },
  {
   "cell_type": "code",
   "execution_count": 17,
   "metadata": {},
   "outputs": [
    {
     "name": "stdout",
     "output_type": "stream",
     "text": [
      "CPU times: total: 12.2 s\n",
      "Wall time: 12.3 s\n"
     ]
    },
    {
     "data": {
      "text/plain": [
       "165580141"
      ]
     },
     "execution_count": 17,
     "metadata": {},
     "output_type": "execute_result"
    }
   ],
   "source": [
    "%%time\n",
    "fib(40)"
   ]
  },
  {
   "cell_type": "code",
   "execution_count": 10,
   "metadata": {},
   "outputs": [],
   "source": [
    "# Dynamic implementation of the Fibonacci function:\n",
    "# Time Complexity = O(n) \n",
    "def fastFib(n, memo = {}): \n",
    "    \"\"\"Assumes n is an int >= 0, memo used only by recusive calls\n",
    "    Returns Fibonacci of n\"\"\" \n",
    "    if n == 0 or n == 1: \n",
    "        return 1 \n",
    "    try:\n",
    "        return memo[n]\n",
    "    except KeyError:\n",
    "        result = fastFib(n-1, memo) + fastFib(n-2, memo)\n",
    "        memo[n] = result\n",
    "        return result"
   ]
  },
  {
   "cell_type": "code",
   "execution_count": 15,
   "metadata": {},
   "outputs": [
    {
     "name": "stdout",
     "output_type": "stream",
     "text": [
      "CPU times: total: 0 ns\n",
      "Wall time: 0 ns\n"
     ]
    },
    {
     "data": {
      "text/plain": [
       "453973694165307953197296969697410619233826"
      ]
     },
     "execution_count": 15,
     "metadata": {},
     "output_type": "execute_result"
    }
   ],
   "source": [
    "%%time\n",
    "fastFib(200)"
   ]
  },
  {
   "cell_type": "markdown",
   "metadata": {},
   "source": [
    "## Dynamic Programming and the 0/1 Knapsack Problem\n"
   ]
  },
  {
   "cell_type": "code",
   "execution_count": 21,
   "metadata": {},
   "outputs": [],
   "source": [
    "# Class Item\n",
    "class Item(object):\n",
    "    def __init__(self, n, v, w):\n",
    "        self.name = n\n",
    "        self.value = v\n",
    "        self.weight = w\n",
    "    def getName(self):\n",
    "        return self.name\n",
    "    def getValue(self):\n",
    "        return self.value\n",
    "    def getWeight(self):\n",
    "        return self.weight\n",
    "    def __str__(self) -> str:\n",
    "        result = '<' + self.name + ', ' + str(self.value)\\\n",
    "            + ', ' + str(self.weight) + '>'\n",
    "        return result\n",
    "    \n",
    "def value(item):\n",
    "    return item.getValue()\n",
    "\n",
    "def weightInverse(item):\n",
    "    return 1.0/item.getWeight()\n",
    "\n",
    "def density(item):\n",
    "    return item.getValue()/item.getWeight()"
   ]
  },
  {
   "cell_type": "code",
   "execution_count": null,
   "metadata": {},
   "outputs": [],
   "source": []
  },
  {
   "cell_type": "code",
   "execution_count": 38,
   "metadata": {},
   "outputs": [],
   "source": [
    "def maxVal(toConsider, avail):\n",
    "    \"\"\"Assumes toConsider a list of items, avail a weight\n",
    "    Returns a tuple of the total value of a solution to the \n",
    "    0/1 knapsack problem and the items of that solution\"\"\"\n",
    "    if toConsider == [] or avail == 0:\n",
    "        result = (0,())\n",
    "    elif toConsider[0].getWeight() > avail:\n",
    "        # Explore right branch only\n",
    "        result = maxVal(toConsider[1:], avail)\n",
    "    else:\n",
    "        nextItem = toConsider[0]\n",
    "        #Explore left branch\n",
    "        withVal, withToTake = maxVal(toConsider[1:],\n",
    "                                     avail - nextItem.getWeight())\n",
    "        withVal += nextItem.getValue()\n",
    "        #Explore right branch\n",
    "        withoutVal, withoutToTake = maxVal(toConsider[1:], avail)\n",
    "        # Choose better branch\n",
    "        if withVal > withoutVal:\n",
    "            result = (withVal, withToTake + (nextItem,))\n",
    "        else:\n",
    "            result = (withoutVal, withoutToTake)\n",
    "    return result"
   ]
  },
  {
   "cell_type": "code",
   "execution_count": 39,
   "metadata": {},
   "outputs": [],
   "source": [
    "import random\n",
    "\n",
    "def smallTest():\n",
    "    names = ['a','b','c','d']\n",
    "    values = [6,7,8,9]\n",
    "    weights = [3,3,2,5]\n",
    "    Items = []\n",
    "    for i in range(len(values)):\n",
    "        Items.append(Item(names[i], values[i], weights[i]))\n",
    "    val, taken = maxVal(Items, 5)\n",
    "    for item in taken:\n",
    "        print(item)\n",
    "    print('Total value of items taken =', val)\n",
    "\n",
    "\n",
    "def BuildManyItems(numItems, maxVal, maxWeight):\n",
    "    items = []\n",
    "    for i in range(numItems):\n",
    "        items.append(Item(str(i),\n",
    "                          random.randint(1, maxVal),\n",
    "                          random.randint(1, maxWeight)))\n",
    "    return items\n",
    "        \n",
    "def bigTest(numItems):\n",
    "    items = BuildManyItems(numItems, 10, 10)\n",
    "    val, taken = maxVal(items, 40)\n",
    "    print('Items Taken')\n",
    "    for item in taken:\n",
    "        print(item)\n",
    "    print('Total value of items taken =', val)"
   ]
  },
  {
   "cell_type": "code",
   "execution_count": 40,
   "metadata": {},
   "outputs": [
    {
     "name": "stdout",
     "output_type": "stream",
     "text": [
      "<c, 8, 2>\n",
      "<b, 7, 3>\n",
      "Total value of items taken = 15\n",
      "CPU times: total: 0 ns\n",
      "Wall time: 0 ns\n"
     ]
    }
   ],
   "source": [
    "%%time\n",
    "smallTest()"
   ]
  },
  {
   "cell_type": "code",
   "execution_count": 41,
   "metadata": {},
   "outputs": [
    {
     "name": "stdout",
     "output_type": "stream",
     "text": [
      "Items Taken\n",
      "<9, 4, 4>\n",
      "<8, 6, 8>\n",
      "<6, 2, 3>\n",
      "<5, 9, 10>\n",
      "<1, 6, 4>\n",
      "<0, 8, 9>\n",
      "Total value of items taken = 35\n",
      "CPU times: total: 0 ns\n",
      "Wall time: 988 µs\n"
     ]
    }
   ],
   "source": [
    "%%time\n",
    "bigTest(10)"
   ]
  },
  {
   "cell_type": "code",
   "execution_count": 42,
   "metadata": {},
   "outputs": [
    {
     "name": "stdout",
     "output_type": "stream",
     "text": [
      "Items Taken\n",
      "<18, 9, 2>\n",
      "<16, 5, 3>\n",
      "<15, 7, 3>\n",
      "<14, 6, 2>\n",
      "<13, 8, 1>\n",
      "<10, 7, 2>\n",
      "<8, 10, 3>\n",
      "<4, 8, 1>\n",
      "<3, 5, 3>\n",
      "<2, 6, 8>\n",
      "<1, 9, 3>\n",
      "<0, 10, 9>\n",
      "Total value of items taken = 90\n",
      "CPU times: total: 62.5 ms\n",
      "Wall time: 62.7 ms\n"
     ]
    }
   ],
   "source": [
    "%%time\n",
    "bigTest(20)"
   ]
  },
  {
   "cell_type": "code",
   "execution_count": 43,
   "metadata": {},
   "outputs": [],
   "source": [
    "def fastmaxVal(toConsider, avail, memo = {}):\n",
    "    \"\"\"Assumes toConsider a list of items, avail a weight\n",
    "    memo supplied by recursive calls\n",
    "    Returns a tuple of the total value of a solution to the \n",
    "    0/1 knapsack problem and the items of that solution\"\"\"\n",
    "    if(len(toConsider), avail) in memo:\n",
    "        result = memo[(len(toConsider), avail)]\n",
    "    elif toConsider == [] or avail == 0:\n",
    "        result = (0,())\n",
    "    elif toConsider[0].getWeight() > avail:\n",
    "        # Explore right branch only\n",
    "        result = fastmaxVal(toConsider[1:], avail, memo)\n",
    "    else:\n",
    "        nextItem = toConsider[0]\n",
    "        #Explore left branch\n",
    "        withVal, withToTake = fastmaxVal(toConsider[1:],\n",
    "                                     avail - nextItem.getWeight(), memo)\n",
    "        withVal += nextItem.getValue()\n",
    "        #Explore right branch\n",
    "        withoutVal, withoutToTake = fastmaxVal(toConsider[1:], avail, memo)\n",
    "        # Choose better branch\n",
    "        if withVal > withoutVal:\n",
    "            result = (withVal, withToTake + (nextItem,))\n",
    "        else:\n",
    "            result = (withoutVal, withoutToTake)\n",
    "    memo[(len(toConsider), avail)] = result\n",
    "    return result"
   ]
  },
  {
   "cell_type": "code",
   "execution_count": 44,
   "metadata": {},
   "outputs": [],
   "source": [
    "import random\n",
    "\n",
    "def smallTest():\n",
    "    names = ['a','b','c','d']\n",
    "    values = [6,7,8,9]\n",
    "    weights = [3,3,2,5]\n",
    "    Items = []\n",
    "    for i in range(len(values)):\n",
    "        Items.append(Item(names[i], values[i], weights[i]))\n",
    "    val, taken = fastmaxVal(Items, 5)\n",
    "    for item in taken:\n",
    "        print(item)\n",
    "    print('Total value of items taken =', val)\n",
    "\n",
    "\n",
    "def BuildManyItems(numItems, maxVal, maxWeight):\n",
    "    items = []\n",
    "    for i in range(numItems):\n",
    "        items.append(Item(str(i),\n",
    "                          random.randint(1, maxVal),\n",
    "                          random.randint(1, maxWeight)))\n",
    "    return items\n",
    "        \n",
    "def bigTest(numItems):\n",
    "    items = BuildManyItems(numItems, 10, 10)\n",
    "    val, taken = fastmaxVal(items, 40)\n",
    "    print('Items Taken')\n",
    "    for item in taken:\n",
    "        print(item)\n",
    "    print('Total value of items taken =', val)"
   ]
  },
  {
   "cell_type": "code",
   "execution_count": 45,
   "metadata": {},
   "outputs": [
    {
     "name": "stdout",
     "output_type": "stream",
     "text": [
      "<c, 8, 2>\n",
      "<b, 7, 3>\n",
      "Total value of items taken = 15\n",
      "CPU times: total: 0 ns\n",
      "Wall time: 0 ns\n"
     ]
    }
   ],
   "source": [
    "%%time\n",
    "smallTest()"
   ]
  },
  {
   "cell_type": "code",
   "execution_count": 46,
   "metadata": {},
   "outputs": [
    {
     "name": "stdout",
     "output_type": "stream",
     "text": [
      "Items Taken\n",
      "<c, 8, 2>\n",
      "<b, 7, 3>\n",
      "<84, 7, 2>\n",
      "<79, 5, 2>\n",
      "<73, 9, 3>\n",
      "<71, 3, 1>\n",
      "<67, 10, 1>\n",
      "<62, 10, 1>\n",
      "<61, 5, 2>\n",
      "<55, 7, 3>\n",
      "<50, 8, 3>\n",
      "<47, 6, 1>\n",
      "<46, 3, 1>\n",
      "<36, 5, 2>\n",
      "<32, 7, 3>\n",
      "<27, 10, 2>\n",
      "<19, 10, 1>\n",
      "<15, 7, 1>\n",
      "<14, 9, 1>\n",
      "<8, 7, 2>\n",
      "<1, 8, 3>\n",
      "Total value of items taken = 151\n",
      "CPU times: total: 0 ns\n",
      "Wall time: 4.02 ms\n"
     ]
    }
   ],
   "source": [
    "%%time\n",
    "bigTest(100)"
   ]
  },
  {
   "cell_type": "code",
   "execution_count": null,
   "metadata": {},
   "outputs": [],
   "source": []
  }
 ],
 "metadata": {
  "kernelspec": {
   "display_name": "Python 3",
   "language": "python",
   "name": "python3"
  },
  "language_info": {
   "codemirror_mode": {
    "name": "ipython",
    "version": 3
   },
   "file_extension": ".py",
   "mimetype": "text/x-python",
   "name": "python",
   "nbconvert_exporter": "python",
   "pygments_lexer": "ipython3",
   "version": "3.11.7"
  }
 },
 "nbformat": 4,
 "nbformat_minor": 2
}
