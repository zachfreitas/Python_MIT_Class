{
 "cells": [
  {
   "cell_type": "markdown",
   "metadata": {},
   "source": [
    "# Exceptions"
   ]
  },
  {
   "cell_type": "code",
   "execution_count": 2,
   "metadata": {},
   "outputs": [
    {
     "ename": "IndexError",
     "evalue": "list index out of range",
     "output_type": "error",
     "traceback": [
      "\u001b[1;31m---------------------------------------------------------------------------\u001b[0m",
      "\u001b[1;31mIndexError\u001b[0m                                Traceback (most recent call last)",
      "Cell \u001b[1;32mIn[2], line 3\u001b[0m\n\u001b[0;32m      1\u001b[0m \u001b[38;5;66;03m# Exception Example\u001b[39;00m\n\u001b[0;32m      2\u001b[0m test \u001b[38;5;241m=\u001b[39m [\u001b[38;5;241m1\u001b[39m,\u001b[38;5;241m2\u001b[39m,\u001b[38;5;241m3\u001b[39m] \n\u001b[1;32m----> 3\u001b[0m \u001b[43mtest\u001b[49m\u001b[43m[\u001b[49m\u001b[38;5;241;43m3\u001b[39;49m\u001b[43m]\u001b[49m\n",
      "\u001b[1;31mIndexError\u001b[0m: list index out of range"
     ]
    }
   ],
   "source": [
    "# Exception Example\n",
    "test = [1,2,3] \n",
    "test[3]\n"
   ]
  },
  {
   "cell_type": "code",
   "execution_count": 5,
   "metadata": {},
   "outputs": [
    {
     "ename": "ZeroDivisionError",
     "evalue": "division by zero",
     "output_type": "error",
     "traceback": [
      "\u001b[1;31m---------------------------------------------------------------------------\u001b[0m",
      "\u001b[1;31mZeroDivisionError\u001b[0m                         Traceback (most recent call last)",
      "Cell \u001b[1;32mIn[5], line 5\u001b[0m\n\u001b[0;32m      2\u001b[0m numSuccesses \u001b[38;5;241m=\u001b[39m \u001b[38;5;241m500\u001b[39m\n\u001b[0;32m      3\u001b[0m numFailures \u001b[38;5;241m=\u001b[39m \u001b[38;5;241m0\u001b[39m\n\u001b[1;32m----> 5\u001b[0m successFailureRatio \u001b[38;5;241m=\u001b[39m \u001b[43mnumSuccesses\u001b[49m\u001b[38;5;241;43m/\u001b[39;49m\u001b[43mnumFailures\u001b[49m \n\u001b[0;32m      6\u001b[0m \u001b[38;5;28mprint\u001b[39m(\u001b[38;5;124m'\u001b[39m\u001b[38;5;124mThe success/failure ratio is\u001b[39m\u001b[38;5;124m'\u001b[39m, successFailureRatio) \n\u001b[0;32m      7\u001b[0m \u001b[38;5;28mprint\u001b[39m(\u001b[38;5;124m'\u001b[39m\u001b[38;5;124mNow here\u001b[39m\u001b[38;5;124m'\u001b[39m)\n",
      "\u001b[1;31mZeroDivisionError\u001b[0m: division by zero"
     ]
    }
   ],
   "source": [
    "# Example 2\n",
    "numSuccesses = 500\n",
    "numFailures = 0\n",
    "\n",
    "successFailureRatio = numSuccesses/numFailures \n",
    "print('The success/failure ratio is', successFailureRatio) \n",
    "print('Now here')\n"
   ]
  },
  {
   "cell_type": "code",
   "execution_count": 6,
   "metadata": {},
   "outputs": [
    {
     "name": "stdout",
     "output_type": "stream",
     "text": [
      "No failures, so the success/failure ratio is undefined.\n",
      "Now here\n"
     ]
    }
   ],
   "source": [
    "# Example 2 - Solution\n",
    "numSuccesses = 500\n",
    "numFailures = 0\n",
    "\n",
    "try: \n",
    "    successFailureRatio = numSuccesses/numFailures \n",
    "    print('The success/failure ratio is', successFailureRatio) \n",
    "except ZeroDivisionError: \n",
    "    print('No failures, so the success/failure ratio is undefined.') \n",
    "print('Now here')\n"
   ]
  },
  {
   "cell_type": "code",
   "execution_count": 7,
   "metadata": {},
   "outputs": [
    {
     "name": "stdout",
     "output_type": "stream",
     "text": [
      "sdf is not an integer\n",
      "The square of the number you entered is 292681\n"
     ]
    }
   ],
   "source": [
    "# good Example\n",
    "\n",
    "while True: \n",
    "    val = input('Enter an integer: ') \n",
    "    try: \n",
    "        val = int(val) \n",
    "        print('The square of the number you entered is', val**2) \n",
    "        break #to exit the while loop \n",
    "    except ValueError: \n",
    "        print(val, 'is not an integer')\n"
   ]
  },
  {
   "cell_type": "code",
   "execution_count": 10,
   "metadata": {},
   "outputs": [
    {
     "name": "stdout",
     "output_type": "stream",
     "text": [
      "lkdfj is not an integer\n"
     ]
    },
    {
     "data": {
      "text/plain": [
       "654"
      ]
     },
     "execution_count": 10,
     "metadata": {},
     "output_type": "execute_result"
    }
   ],
   "source": [
    "# Best Example\n",
    "\n",
    "def readVal(valType, requestMsg, errorMsg): \n",
    "    while True: \n",
    "        val = input(requestMsg + ' ') \n",
    "        try: \n",
    "            return(valType(val)) #convert str to valType before returning \n",
    "        except ValueError:  # if we want more than one error type we could write except (ValueError, TypeError):\n",
    "            print(val, errorMsg) \n",
    "            \n",
    "val = readVal(int, 'Enter an integer:', 'is not an integer')\n",
    "\n",
    "val\n"
   ]
  },
  {
   "cell_type": "code",
   "execution_count": null,
   "metadata": {},
   "outputs": [],
   "source": []
  }
 ],
 "metadata": {
  "kernelspec": {
   "display_name": "Python 3",
   "language": "python",
   "name": "python3"
  },
  "language_info": {
   "codemirror_mode": {
    "name": "ipython",
    "version": 3
   },
   "file_extension": ".py",
   "mimetype": "text/x-python",
   "name": "python",
   "nbconvert_exporter": "python",
   "pygments_lexer": "ipython3",
   "version": "3.11.7"
  }
 },
 "nbformat": 4,
 "nbformat_minor": 2
}
