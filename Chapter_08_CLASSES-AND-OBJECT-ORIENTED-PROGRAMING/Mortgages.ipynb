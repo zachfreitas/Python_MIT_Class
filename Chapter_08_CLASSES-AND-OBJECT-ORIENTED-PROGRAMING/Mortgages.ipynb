{
 "cells": [
  {
   "cell_type": "code",
   "execution_count": 11,
   "metadata": {},
   "outputs": [],
   "source": [
    "def findPayment(loan, r, m):\n",
    "    \"\"\"Assumes: Loan and r are floats, m an int\n",
    "    Returns the monthly payment for a mortage of size\n",
    "    loan at a a monthly rate of r for m months\n",
    "    \"\"\"\n",
    "    return loan*((r*(1+r)**m)/((1+r)**m-1))"
   ]
  },
  {
   "cell_type": "code",
   "execution_count": 18,
   "metadata": {},
   "outputs": [],
   "source": [
    "class Mortgage(object):\n",
    "    \"\"\"Abstrac class for building different kinds of mortgages\"\"\"\n",
    "    def __init__(self, loan, annRate, months) -> None:\n",
    "        \"\"\"Assumes: loand and annRate are floats, months an int\n",
    "        Creates a new Mortgage of size loan, duration months, and annual rate annRate\n",
    "        \"\"\"\n",
    "        self.loan = loan \n",
    "        self.rate = annRate/12\n",
    "        self.months = months \n",
    "        self.paid = [0.0]\n",
    "        self.outstanding = [loan]\n",
    "        self.payment = findPayment(loan, self.rate, months)\n",
    "        self.legend = None # Description of Mortgage\n",
    "        \n",
    "    def makePayment(self):\n",
    "        \"\"\"Make a Payment\"\"\"\n",
    "        self.paid.append(self.payment)\n",
    "        reduction = self.payment - self.outstanding[-1]*self.rate\n",
    "        self.outstanding.append(self.outstanding[-1] - reduction)\n",
    "        \n",
    "    def getTotalPaid(Self):\n",
    "        \"\"\"Return the total amount paid so far\"\"\"\n",
    "        return sum(Self.paid)\n",
    "    \n",
    "    def __str__(self):\n",
    "        return self.legend"
   ]
  },
  {
   "cell_type": "code",
   "execution_count": 19,
   "metadata": {},
   "outputs": [],
   "source": [
    "class Fixed(Mortgage):\n",
    "    def __init__(self, loan, r, months) -> None:\n",
    "        Mortgage.__init__(self, loan, r, months)\n",
    "        self.legend = 'Fixed, ' + str(round(r*100,2)) + '%'"
   ]
  },
  {
   "cell_type": "code",
   "execution_count": 20,
   "metadata": {},
   "outputs": [],
   "source": [
    "class FixedWithPts(Mortgage):\n",
    "    def __init__(self, loan, r, months, pts) -> None:\n",
    "        Mortgage.__init__(self, loan, r, months)\n",
    "        self.pts = pts\n",
    "        self.paid = [loan*(pts/100)]\n",
    "        self.legend = 'Fixed, ' + str(round(r*100,2)) + '%, '\\\n",
    "            + str(pts) + ' points'"
   ]
  },
  {
   "cell_type": "code",
   "execution_count": 27,
   "metadata": {},
   "outputs": [],
   "source": [
    "class TwoRate(Mortgage):\n",
    "    def __init__(self, loan, r, months, teaserRate, teaserMonths) -> None:\n",
    "        Mortgage.__init__(self, loan, teaserRate, months)\n",
    "        self.teaserMonths = teaserMonths\n",
    "        self.teaserRate = teaserRate\n",
    "        self.nextRate = r/12\n",
    "        self.legend = str(teaserRate*100)\\\n",
    "            + '% for ' + str(self.teaserMonths)\\\n",
    "                + ' months, then ' + str(round(r*100,2)) + '%'\n",
    "    def makePayment(self):\n",
    "        if len(self.paid) == self.teaserMonths + 1:\n",
    "            self.rate = self.nextRate\n",
    "            self.payment = findPayment(self.outstanding[-1],\n",
    "                                       self.rate,\n",
    "                                       self.months - self.teaserMonths)\n",
    "        Mortgage.makePayment(self)"
   ]
  },
  {
   "cell_type": "code",
   "execution_count": 28,
   "metadata": {},
   "outputs": [],
   "source": [
    "def compareMortgages(amt, years, fixedRate, pts, ptsRate, varRate1, varRate2, varMonths):\n",
    "    totMonths = years*12\n",
    "    fixed1 = Fixed(amt, fixedRate, totMonths)\n",
    "    fixed2 = FixedWithPts(amt, ptsRate, totMonths, pts)\n",
    "    twoRate = TwoRate(amt, varRate2, totMonths, varRate1, varMonths)\n",
    "    morts = [fixed1, fixed2, twoRate]\n",
    "    for m in range(totMonths):\n",
    "         for mort in morts:\n",
    "             mort.makePayment()\n",
    "    for m in morts:\n",
    "        print(m)\n",
    "        print(' Total payments = $' + str(int(m.getTotalPaid())))\n",
    "        "
   ]
  },
  {
   "cell_type": "code",
   "execution_count": 29,
   "metadata": {},
   "outputs": [
    {
     "name": "stdout",
     "output_type": "stream",
     "text": [
      "Fixed, 7.0%\n",
      " Total payments = $479017\n",
      "Fixed, 5.0%, 3.25 points\n",
      " Total payments = $393011\n",
      "4.5% for 48 months, then 9.5%\n",
      " Total payments = $551444\n"
     ]
    }
   ],
   "source": [
    "compareMortgages(amt=200000, years=30, fixedRate=0.07, pts=3.25, ptsRate=0.05, varRate1=0.045, varRate2=0.095, varMonths=48)"
   ]
  },
  {
   "cell_type": "code",
   "execution_count": null,
   "metadata": {},
   "outputs": [],
   "source": []
  }
 ],
 "metadata": {
  "kernelspec": {
   "display_name": "Python 3",
   "language": "python",
   "name": "python3"
  },
  "language_info": {
   "codemirror_mode": {
    "name": "ipython",
    "version": 3
   },
   "file_extension": ".py",
   "mimetype": "text/x-python",
   "name": "python",
   "nbconvert_exporter": "python",
   "pygments_lexer": "ipython3",
   "version": "3.11.7"
  }
 },
 "nbformat": 4,
 "nbformat_minor": 2
}
