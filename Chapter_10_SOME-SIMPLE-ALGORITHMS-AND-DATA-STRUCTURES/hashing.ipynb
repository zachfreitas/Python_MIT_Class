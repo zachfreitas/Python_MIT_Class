{
 "cells": [
  {
   "cell_type": "markdown",
   "metadata": {},
   "source": [
    "# Hashing   \n"
   ]
  },
  {
   "cell_type": "code",
   "execution_count": 4,
   "metadata": {},
   "outputs": [],
   "source": [
    "class intDict(object):\n",
    "    \"\"\"A dictionary with integer keys\"\"\"\n",
    "    \n",
    "    def __init__(self, numBuckets):\n",
    "        \"\"\"Create and empty dictionary\"\"\"\n",
    "        self.buckets = []\n",
    "        self.numBuckets = numBuckets\n",
    "        for i in range(numBuckets):\n",
    "            self.buckets.append([])\n",
    "    \n",
    "    def addEntry(self, key, dictVal):\n",
    "        \"\"\"Assumes key and int. Adds an entry.\"\"\"\n",
    "        hashBucket = self.buckets[key%self.numBuckets]\n",
    "        for i in range(len(hashBucket)):\n",
    "            if hashBucket[i][0]==key:\n",
    "                hashBucket[i] = (key, dictVal)\n",
    "                return\n",
    "        hashBucket.append((key, dictVal))\n",
    "            \n",
    "    def getValue(self, key):\n",
    "        \"\"\"Assumes key an int.\n",
    "        Returns value associated with key\"\"\"\n",
    "        hashBucket = self.buckets[key%self.numBuckets]\n",
    "        for e in hashBucket:\n",
    "            if e[0] == key:\n",
    "                return e[1]\n",
    "        return None\n",
    "    \n",
    "    def __str__(self) -> str:\n",
    "        result = '{'\n",
    "        for b in self.buckets:\n",
    "            for e in b:\n",
    "                result = result + str(e[0]) + ':' + str(e[1]) + ','\n",
    "        return result[:-1] + '}' # result[:-1] omits the last comma"
   ]
  },
  {
   "cell_type": "code",
   "execution_count": 5,
   "metadata": {},
   "outputs": [
    {
     "name": "stdout",
     "output_type": "stream",
     "text": [
      "The value of the intDict is:\n",
      "{50099:1,43452:14,74682:3,70177:5,77045:13,43691:17,95813:19,53333:7,27867:16,97688:9,2114:18,12417:15,83803:10,8221:11,21618:6,80082:0,33995:8,5639:12,97525:2,10962:4}\n",
      "\n",
      " The buckets are:\n",
      "  [(50099, 1), (43452, 14)]\n",
      "  [(74682, 3), (70177, 5), (77045, 13), (43691, 17), (95813, 19)]\n",
      "  []\n",
      "  []\n",
      "  [(53333, 7), (27867, 16)]\n",
      "  []\n",
      "  [(97688, 9), (2114, 18)]\n",
      "  [(12417, 15)]\n",
      "  []\n",
      "  []\n",
      "  [(83803, 10), (8221, 11)]\n",
      "  [(21618, 6)]\n",
      "  [(80082, 0), (33995, 8), (5639, 12)]\n",
      "  [(97525, 2)]\n",
      "  [(10962, 4)]\n",
      "  []\n",
      "  []\n"
     ]
    }
   ],
   "source": [
    "import random \n",
    "D = intDict(17) \n",
    "for i in range(20): \n",
    "    #choose a random int in the range 0 to \n",
    "    10**5 - 1 \n",
    "    key = random.choice(range(10**5)) \n",
    "    D.addEntry(key, i) \n",
    "    \n",
    "print('The value of the intDict is:') \n",
    "print(D) \n",
    "print('\\n', 'The buckets are:') \n",
    "for hashBucket in D.buckets: #violates abstraction barrier \n",
    "    print(' ', hashBucket)\n"
   ]
  },
  {
   "cell_type": "code",
   "execution_count": null,
   "metadata": {},
   "outputs": [],
   "source": []
  }
 ],
 "metadata": {
  "kernelspec": {
   "display_name": "Python 3",
   "language": "python",
   "name": "python3"
  },
  "language_info": {
   "codemirror_mode": {
    "name": "ipython",
    "version": 3
   },
   "file_extension": ".py",
   "mimetype": "text/x-python",
   "name": "python",
   "nbconvert_exporter": "python",
   "pygments_lexer": "ipython3",
   "version": "3.11.7"
  }
 },
 "nbformat": 4,
 "nbformat_minor": 2
}
