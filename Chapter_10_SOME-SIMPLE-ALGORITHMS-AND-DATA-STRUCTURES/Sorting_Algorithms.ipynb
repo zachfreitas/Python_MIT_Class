{
 "cells": [
  {
   "cell_type": "markdown",
   "metadata": {},
   "source": [
    "# Sorting Algorithms"
   ]
  },
  {
   "cell_type": "code",
   "execution_count": 22,
   "metadata": {},
   "outputs": [],
   "source": [
    "# Selection sort\n",
    "def selSort(L):\n",
    "    \"\"\"Assumes that L is a list of elements that can be compared using >.\n",
    "    Sort L in ascending order\"\"\"\n",
    "    suffixStart = 0\n",
    "    while suffixStart != len(L):\n",
    "        #look at each element in suffix\n",
    "        for i in range(suffixStart, len(L)):\n",
    "            if L[i] <  L[suffixStart]:\n",
    "                #swap position of elements\n",
    "                L[suffixStart], L[i] = L[i], L[suffixStart]\n",
    "        suffixStart +=1\n",
    "    return L"
   ]
  },
  {
   "cell_type": "code",
   "execution_count": 31,
   "metadata": {},
   "outputs": [
    {
     "name": "stdout",
     "output_type": "stream",
     "text": [
      "CPU times: total: 1.12 s\n",
      "Wall time: 1.13 s\n"
     ]
    }
   ],
   "source": [
    "%%time\n",
    "L = [1,5,12,18,19,20,2,3,4,17] * 1000\n",
    "sorted_L = selSort(L)"
   ]
  },
  {
   "cell_type": "code",
   "execution_count": 15,
   "metadata": {},
   "outputs": [],
   "source": [
    "# Merge Sort Algo\n",
    "def merge(left, right, compare):\n",
    "    \"\"\"Assumes left and right are sorted lists and \n",
    "    compare defines and ordering of elements.\n",
    "    Returns a new sorted (by compare) list containing the \n",
    "    same elements as (left + right) would contain.\"\"\"\n",
    "    \n",
    "    result = []\n",
    "    i,j = 0, 0\n",
    "    while i < len(left) and j < len(right):\n",
    "        if compare(left[i], right[j]):\n",
    "            result.append(left[i])\n",
    "            i += 1\n",
    "        else:\n",
    "            result.append(right[j])\n",
    "            j += 1\n",
    "    while (i < len(left)):\n",
    "        result.append(left[i])\n",
    "        i += 1\n",
    "    while (j < len(right)):\n",
    "        result.append(right[j])\n",
    "        j += 1\n",
    "    return result\n",
    "\n",
    "def mergeSort(L, compare = lambda x, y: x < y):\n",
    "    \"\"\"Assumes L is a list, compare defines an ordering\n",
    "    on elements L, ASC.\n",
    "    Returns a new sorted list with the same elements as L\"\"\"\n",
    "    if len(L) < 2:\n",
    "        return L[:]\n",
    "    else:\n",
    "        middle = len(L)//2\n",
    "        left = mergeSort(L[:middle], compare)\n",
    "        right = mergeSort(L[middle:], compare)\n",
    "        return merge(left, right, compare)"
   ]
  },
  {
   "cell_type": "code",
   "execution_count": 32,
   "metadata": {},
   "outputs": [
    {
     "name": "stdout",
     "output_type": "stream",
     "text": [
      "CPU times: total: 15.6 ms\n",
      "Wall time: 15.4 ms\n"
     ]
    }
   ],
   "source": [
    "%%time\n",
    "L = [1,5,12,18,19,20,2,3,4,17] * 1000\n",
    "sorted_L = mergeSort(L)"
   ]
  },
  {
   "cell_type": "code",
   "execution_count": 41,
   "metadata": {},
   "outputs": [
    {
     "name": "stdout",
     "output_type": "stream",
     "text": [
      "Sorted by last name = ['Tom Brady', 'Gisele Bundchen', 'Eric Grimson']\n",
      "Sorted by first name = ['Eric Grimson', 'Gisele Bundchen', 'Tom Brady']\n"
     ]
    }
   ],
   "source": [
    "# sorting a list of names\n",
    "def lastNameFirstName(name1, name2):\n",
    "    arg1 = name1.split(' ')\n",
    "    arg2 = name2.split(' ')\n",
    "    if arg1[1] != arg2[1]:\n",
    "        return arg1[1] < arg2[1]\n",
    "    else: # Last names the same, sort by first name\n",
    "        return arg1[0] < arg2[0]\n",
    "    \n",
    "def firstNameLastName(name1, name2):\n",
    "    arg1 = name1.split(' ')\n",
    "    arg2 = name2.split(' ')\n",
    "    if arg1[0] != arg2[0]:\n",
    "        return arg1[0] < arg2[0]\n",
    "    else: # Last names the same, sort by first name\n",
    "        return arg1[1] < arg2[1]\n",
    "    \n",
    "L = ['Tom Brady', 'Eric Grimson', 'Gisele Bundchen']\n",
    "newL = mergeSort(L, lastNameFirstName)\n",
    "print('Sorted by last name =', newL)\n",
    "newL = mergeSort(L, firstNameLastName)\n",
    "print('Sorted by first name =', newL)"
   ]
  },
  {
   "cell_type": "code",
   "execution_count": 44,
   "metadata": {},
   "outputs": [
    {
     "name": "stdout",
     "output_type": "stream",
     "text": [
      "['Eric Grimson', 'Gisele Bundchen', 'Tom Brady']\n",
      "['Tom Brady', 'Eric Grimson', 'Gisele Bundchen']\n"
     ]
    }
   ],
   "source": [
    "print(sorted(L))\n",
    "print(L)"
   ]
  },
  {
   "cell_type": "code",
   "execution_count": 45,
   "metadata": {},
   "outputs": [
    {
     "name": "stdout",
     "output_type": "stream",
     "text": [
      "['Eric Grimson', 'Gisele Bundchen', 'Tom Brady']\n"
     ]
    }
   ],
   "source": [
    "# This resorts the list permenatly.\n",
    "L.sort()\n",
    "print(L)"
   ]
  },
  {
   "cell_type": "code",
   "execution_count": null,
   "metadata": {},
   "outputs": [],
   "source": []
  }
 ],
 "metadata": {
  "kernelspec": {
   "display_name": "Python 3",
   "language": "python",
   "name": "python3"
  },
  "language_info": {
   "codemirror_mode": {
    "name": "ipython",
    "version": 3
   },
   "file_extension": ".py",
   "mimetype": "text/x-python",
   "name": "python",
   "nbconvert_exporter": "python",
   "pygments_lexer": "ipython3",
   "version": "3.11.7"
  }
 },
 "nbformat": 4,
 "nbformat_minor": 2
}
