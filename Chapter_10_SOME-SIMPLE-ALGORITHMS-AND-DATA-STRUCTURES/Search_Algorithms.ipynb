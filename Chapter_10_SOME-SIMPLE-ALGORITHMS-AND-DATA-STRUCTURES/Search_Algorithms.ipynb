{
 "cells": [
  {
   "cell_type": "markdown",
   "metadata": {},
   "source": [
    "# Search Algorithms"
   ]
  },
  {
   "cell_type": "code",
   "execution_count": 1,
   "metadata": {},
   "outputs": [],
   "source": [
    "def search(L, e):\n",
    "    \"\"\"Assumes L is a list, the elements of which are in \n",
    "    ascending order.\n",
    "    Returns True if e is in L and False Otherwise\"\"\"\n",
    "    \n",
    "    def bSearch(L, e, low, high):\n",
    "        # Decrements high - low\n",
    "        if high == low:\n",
    "            return L[low] == e\n",
    "        mid = (low + high)//2\n",
    "        if L[mid] == e:\n",
    "            return True\n",
    "        elif L[mid] > e:\n",
    "            if low == mid: # Nothing left to search\n",
    "                return False\n",
    "            else:\n",
    "                return bSearch(L, e, low, mid - 1)\n",
    "        else:\n",
    "            return bSearch(L, e, mid + 1, high)\n",
    "        \n",
    "    if len(L) == 0:\n",
    "        return False\n",
    "    else:\n",
    "        return bSearch(L, e, 0, len(L) - 1)"
   ]
  },
  {
   "cell_type": "code",
   "execution_count": 3,
   "metadata": {},
   "outputs": [
    {
     "data": {
      "text/plain": [
       "True"
      ]
     },
     "execution_count": 3,
     "metadata": {},
     "output_type": "execute_result"
    }
   ],
   "source": [
    "L = [1,1,1,2,2,2,3,3,3,4,6,6,7]\n",
    "e = 4\n",
    "search(L, e)"
   ]
  },
  {
   "cell_type": "code",
   "execution_count": 4,
   "metadata": {},
   "outputs": [
    {
     "data": {
      "text/plain": [
       "False"
      ]
     },
     "execution_count": 4,
     "metadata": {},
     "output_type": "execute_result"
    }
   ],
   "source": [
    "L = [1,1,1,2,2,2,3,3,3,4,6,6,7]\n",
    "e = 5\n",
    "search(L, e)"
   ]
  },
  {
   "cell_type": "code",
   "execution_count": null,
   "metadata": {},
   "outputs": [],
   "source": []
  }
 ],
 "metadata": {
  "kernelspec": {
   "display_name": "Python 3",
   "language": "python",
   "name": "python3"
  },
  "language_info": {
   "codemirror_mode": {
    "name": "ipython",
    "version": 3
   },
   "file_extension": ".py",
   "mimetype": "text/x-python",
   "name": "python",
   "nbconvert_exporter": "python",
   "pygments_lexer": "ipython3",
   "version": "3.11.7"
  }
 },
 "nbformat": 4,
 "nbformat_minor": 2
}
